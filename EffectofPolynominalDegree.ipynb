{
 "cells": [
  {
   "cell_type": "code",
   "execution_count": 1,
   "id": "fea8706e-66d2-4cc6-b181-af34c5a66a2f",
   "metadata": {},
   "outputs": [],
   "source": [
    "# compare the effect of the degree on the number of created features\n",
    "from pandas import read_csv\n",
    "from sklearn.preprocessing import LabelEncoder\n",
    "from sklearn.preprocessing import PolynomialFeatures\n",
    "from matplotlib import pyplot"
   ]
  },
  {
   "cell_type": "code",
   "execution_count": 2,
   "id": "0aa286bb-9add-4c58-93c9-34ebd01a5bde",
   "metadata": {},
   "outputs": [],
   "source": [
    "def get_dataset(filename):\n",
    "    # load dataset\n",
    "    dataset = read_csv(filename, header=0)\n",
    "    data = dataset.values\n",
    "    # separate into input and output column\n",
    "    X, y = data[:, :-1], data[:, -1]\n",
    "    # ensure inputs are floats and output is an integer label\n",
    "    X = X.astype('float32')\n",
    "    y = LabelEncoder().fit_transform(y.astype('str'))\n",
    "    return X, y"
   ]
  },
  {
   "cell_type": "code",
   "execution_count": 3,
   "id": "b914c735-5c7f-4703-a2c1-4fd221f95b3b",
   "metadata": {},
   "outputs": [
    {
     "name": "stdout",
     "output_type": "stream",
     "text": [
      "Degree: 1, Features: 61\n",
      "Degree: 2, Features: 1891\n",
      "Degree: 3, Features: 39711\n",
      "Degree: 4, Features: 635376\n",
      "Degree: 5, Features: 8259888\n"
     ]
    }
   ],
   "source": [
    "# define dataset\n",
    "X, y = get_dataset('Sonar.csv')\n",
    "# calculate change in number of features\n",
    "num_features = list()\n",
    "degress = [i for i in range(1, 6)]\n",
    "for d in degress:\n",
    "    # create transform\n",
    "    trans = PolynomialFeatures(degree=d)\n",
    "    # fit and transform\n",
    "    data = trans.fit_transform(X)\n",
    "    # RECORD NUMBER OF FEATURES\n",
    "    num_features.append(data.shape[1])\n",
    "    # summarize\n",
    "    print('Degree: %d, Features: %d' % (d, data.shape[1]))"
   ]
  },
  {
   "cell_type": "code",
   "execution_count": 4,
   "id": "60a1cf05-a5f2-4417-b2d2-4e516423aa08",
   "metadata": {},
   "outputs": [
    {
     "data": {
      "image/png": "[encoded data removed]",
      "text/plain": [
       "<Figure size 432x288 with 1 Axes>"
      ]
     },
     "metadata": {
      "needs_background": "light"
     },
     "output_type": "display_data"
    }
   ],
   "source": [
    "# plot degree vs number of features\n",
    "pyplot.plot(degress, num_features)\n",
    "pyplot.show()"
   ]
  },
  {
   "cell_type": "code",
   "execution_count": null,
   "id": "173e60d2-bf73-401b-bcd3-3cd81271d28e",
   "metadata": {},
   "outputs": [],
   "source": []
  }
 ],
 "metadata": {
  "kernelspec": {
   "display_name": "Python 3 (ipykernel)",
   "language": "python",
   "name": "python3"
  },
  "language_info": {
   "codemirror_mode": {
    "name": "ipython",
    "version": 3
   },
   "file_extension": ".py",
   "mimetype": "text/x-python",
   "name": "python",
   "nbconvert_exporter": "python",
   "pygments_lexer": "ipython3",
   "version": "3.10.12"
  }
 },
 "nbformat": 4,
 "nbformat_minor": 5
}
